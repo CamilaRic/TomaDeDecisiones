{
  "cells": [
    {
      "cell_type": "markdown",
      "id": "65ebaf6b-b875-4a30-a2b3-4f1acf146b4e",
      "metadata": {
        "id": "65ebaf6b-b875-4a30-a2b3-4f1acf146b4e"
      },
      "source": [
        "# **Descripción de la Tarea**  \n",
        "Se dispone de un conjunto de datos proporcionado por una empresa, que contiene información sobre inversiones y ventas desde 1980 hasta 2017. A partir de estos datos, se llevará a cabo un análisis detallado para extraer información relevante.  \n",
        "\n",
        "## **Objetivos**  \n",
        "\n",
        "1. **Construcción de un modelo de regresión lineal**  \n",
        "   - Calcular los parámetros del modelo y analizar su significado.  \n",
        "\n",
        "2. **Estimación de ventas**  \n",
        "   - Determinar la cantidad de ventas proyectadas si la inversión asciende a 7 millones de euros.  \n",
        "\n",
        "3. **Validación del modelo**  \n",
        "   - Evaluar la precisión del modelo utilizando la **Suma de Cuadrados del Error (SCE)** y el **coeficiente de determinación**.  \n",
        "\n",
        "4. **Análisis e interpretación**  \n",
        "   - Explicar y justificar los resultados obtenidos en cada etapa del análisis.  \n"
      ]
    },
    {
      "cell_type": "markdown",
      "id": "6c050007-030a-4127-b332-62b3cbd74eeb",
      "metadata": {
        "id": "6c050007-030a-4127-b332-62b3cbd74eeb"
      },
      "source": [
        "# Importación de librerias"
      ]
    },
    {
      "cell_type": "code",
      "execution_count": 1,
      "id": "660921a5-26b9-4a4f-9ab4-1449e95d637f",
      "metadata": {
        "id": "660921a5-26b9-4a4f-9ab4-1449e95d637f",
        "outputId": "796b58b3-ff34-4457-8baf-1879d751f77b",
        "colab": {
          "base_uri": "https://localhost:8080/"
        }
      },
      "outputs": [
        {
          "output_type": "stream",
          "name": "stderr",
          "text": [
            "<ipython-input-1-d328ecb99472>:4: DeprecationWarning: Please import `pearsonr` from the `scipy.stats` namespace; the `scipy.stats.stats` namespace is deprecated and will be removed in SciPy 2.0.0.\n",
            "  from scipy.stats.stats import pearsonr\n"
          ]
        }
      ],
      "source": [
        "import pandas as pd\n",
        "import numpy as np\n",
        "import matplotlib.pyplot as plt\n",
        "from scipy.stats.stats import pearsonr\n",
        "import statsmodels.api as sm\n",
        "import seaborn as sns\n",
        "import math\n",
        "import pandas.testing as tm\n",
        "%matplotlib inline"
      ]
    },
    {
      "cell_type": "markdown",
      "id": "b71a4076-3879-4168-bf3c-18ca753a30e5",
      "metadata": {
        "id": "b71a4076-3879-4168-bf3c-18ca753a30e5"
      },
      "source": [
        "# Carga de datos y visualización general"
      ]
    },
    {
      "cell_type": "code",
      "execution_count": 2,
      "id": "593dc3a0-d144-4211-aa4a-4579ad8ef7e8",
      "metadata": {
        "id": "593dc3a0-d144-4211-aa4a-4579ad8ef7e8"
      },
      "outputs": [],
      "source": [
        "url = 'https://raw.githubusercontent.com/md-lorente/data/master/datos_ventas.csv'\n",
        "df = pd.read_csv(url, sep=';', decimal=',')"
      ]
    },
    {
      "cell_type": "markdown",
      "id": "38e22993-428a-4369-9931-c279c381da7e",
      "metadata": {
        "id": "38e22993-428a-4369-9931-c279c381da7e"
      },
      "source": [
        "Visualicemos los primeros 10 registros del dataset"
      ]
    },
    {
      "cell_type": "code",
      "execution_count": 3,
      "id": "04ceb783-4f36-4f64-b2f5-2512ad9a3687",
      "metadata": {
        "id": "04ceb783-4f36-4f64-b2f5-2512ad9a3687",
        "outputId": "18eecfc8-d86a-4d7c-caba-f7fe53c5a8c7",
        "colab": {
          "base_uri": "https://localhost:8080/",
          "height": 363
        }
      },
      "outputs": [
        {
          "output_type": "execute_result",
          "data": {
            "text/plain": [
              "   Fecha_anual  Inversion  Ventas\n",
              "0         1980        1.0    4.61\n",
              "1         1981        1.5    5.18\n",
              "2         1982        2.0    5.09\n",
              "3         1983        2.5    5.44\n",
              "4         1984        3.0    0.62\n",
              "5         1985        3.5    6.39\n",
              "6         1986        4.0    0.64\n",
              "7         1987        4.5    7.04\n",
              "8         1988        5.0    7.13\n",
              "9         1989        5.5    7.48"
            ],
            "text/html": [
              "\n",
              "  <div id=\"df-b9cd62b3-e93e-4453-9f52-1ea2ee039bb3\" class=\"colab-df-container\">\n",
              "    <div>\n",
              "<style scoped>\n",
              "    .dataframe tbody tr th:only-of-type {\n",
              "        vertical-align: middle;\n",
              "    }\n",
              "\n",
              "    .dataframe tbody tr th {\n",
              "        vertical-align: top;\n",
              "    }\n",
              "\n",
              "    .dataframe thead th {\n",
              "        text-align: right;\n",
              "    }\n",
              "</style>\n",
              "<table border=\"1\" class=\"dataframe\">\n",
              "  <thead>\n",
              "    <tr style=\"text-align: right;\">\n",
              "      <th></th>\n",
              "      <th>Fecha_anual</th>\n",
              "      <th>Inversion</th>\n",
              "      <th>Ventas</th>\n",
              "    </tr>\n",
              "  </thead>\n",
              "  <tbody>\n",
              "    <tr>\n",
              "      <th>0</th>\n",
              "      <td>1980</td>\n",
              "      <td>1.0</td>\n",
              "      <td>4.61</td>\n",
              "    </tr>\n",
              "    <tr>\n",
              "      <th>1</th>\n",
              "      <td>1981</td>\n",
              "      <td>1.5</td>\n",
              "      <td>5.18</td>\n",
              "    </tr>\n",
              "    <tr>\n",
              "      <th>2</th>\n",
              "      <td>1982</td>\n",
              "      <td>2.0</td>\n",
              "      <td>5.09</td>\n",
              "    </tr>\n",
              "    <tr>\n",
              "      <th>3</th>\n",
              "      <td>1983</td>\n",
              "      <td>2.5</td>\n",
              "      <td>5.44</td>\n",
              "    </tr>\n",
              "    <tr>\n",
              "      <th>4</th>\n",
              "      <td>1984</td>\n",
              "      <td>3.0</td>\n",
              "      <td>0.62</td>\n",
              "    </tr>\n",
              "    <tr>\n",
              "      <th>5</th>\n",
              "      <td>1985</td>\n",
              "      <td>3.5</td>\n",
              "      <td>6.39</td>\n",
              "    </tr>\n",
              "    <tr>\n",
              "      <th>6</th>\n",
              "      <td>1986</td>\n",
              "      <td>4.0</td>\n",
              "      <td>0.64</td>\n",
              "    </tr>\n",
              "    <tr>\n",
              "      <th>7</th>\n",
              "      <td>1987</td>\n",
              "      <td>4.5</td>\n",
              "      <td>7.04</td>\n",
              "    </tr>\n",
              "    <tr>\n",
              "      <th>8</th>\n",
              "      <td>1988</td>\n",
              "      <td>5.0</td>\n",
              "      <td>7.13</td>\n",
              "    </tr>\n",
              "    <tr>\n",
              "      <th>9</th>\n",
              "      <td>1989</td>\n",
              "      <td>5.5</td>\n",
              "      <td>7.48</td>\n",
              "    </tr>\n",
              "  </tbody>\n",
              "</table>\n",
              "</div>\n",
              "    <div class=\"colab-df-buttons\">\n",
              "\n",
              "  <div class=\"colab-df-container\">\n",
              "    <button class=\"colab-df-convert\" onclick=\"convertToInteractive('df-b9cd62b3-e93e-4453-9f52-1ea2ee039bb3')\"\n",
              "            title=\"Convert this dataframe to an interactive table.\"\n",
              "            style=\"display:none;\">\n",
              "\n",
              "  <svg xmlns=\"http://www.w3.org/2000/svg\" height=\"24px\" viewBox=\"0 -960 960 960\">\n",
              "    <path d=\"M120-120v-720h720v720H120Zm60-500h600v-160H180v160Zm220 220h160v-160H400v160Zm0 220h160v-160H400v160ZM180-400h160v-160H180v160Zm440 0h160v-160H620v160ZM180-180h160v-160H180v160Zm440 0h160v-160H620v160Z\"/>\n",
              "  </svg>\n",
              "    </button>\n",
              "\n",
              "  <style>\n",
              "    .colab-df-container {\n",
              "      display:flex;\n",
              "      gap: 12px;\n",
              "    }\n",
              "\n",
              "    .colab-df-convert {\n",
              "      background-color: #E8F0FE;\n",
              "      border: none;\n",
              "      border-radius: 50%;\n",
              "      cursor: pointer;\n",
              "      display: none;\n",
              "      fill: #1967D2;\n",
              "      height: 32px;\n",
              "      padding: 0 0 0 0;\n",
              "      width: 32px;\n",
              "    }\n",
              "\n",
              "    .colab-df-convert:hover {\n",
              "      background-color: #E2EBFA;\n",
              "      box-shadow: 0px 1px 2px rgba(60, 64, 67, 0.3), 0px 1px 3px 1px rgba(60, 64, 67, 0.15);\n",
              "      fill: #174EA6;\n",
              "    }\n",
              "\n",
              "    .colab-df-buttons div {\n",
              "      margin-bottom: 4px;\n",
              "    }\n",
              "\n",
              "    [theme=dark] .colab-df-convert {\n",
              "      background-color: #3B4455;\n",
              "      fill: #D2E3FC;\n",
              "    }\n",
              "\n",
              "    [theme=dark] .colab-df-convert:hover {\n",
              "      background-color: #434B5C;\n",
              "      box-shadow: 0px 1px 3px 1px rgba(0, 0, 0, 0.15);\n",
              "      filter: drop-shadow(0px 1px 2px rgba(0, 0, 0, 0.3));\n",
              "      fill: #FFFFFF;\n",
              "    }\n",
              "  </style>\n",
              "\n",
              "    <script>\n",
              "      const buttonEl =\n",
              "        document.querySelector('#df-b9cd62b3-e93e-4453-9f52-1ea2ee039bb3 button.colab-df-convert');\n",
              "      buttonEl.style.display =\n",
              "        google.colab.kernel.accessAllowed ? 'block' : 'none';\n",
              "\n",
              "      async function convertToInteractive(key) {\n",
              "        const element = document.querySelector('#df-b9cd62b3-e93e-4453-9f52-1ea2ee039bb3');\n",
              "        const dataTable =\n",
              "          await google.colab.kernel.invokeFunction('convertToInteractive',\n",
              "                                                    [key], {});\n",
              "        if (!dataTable) return;\n",
              "\n",
              "        const docLinkHtml = 'Like what you see? Visit the ' +\n",
              "          '<a target=\"_blank\" href=https://colab.research.google.com/notebooks/data_table.ipynb>data table notebook</a>'\n",
              "          + ' to learn more about interactive tables.';\n",
              "        element.innerHTML = '';\n",
              "        dataTable['output_type'] = 'display_data';\n",
              "        await google.colab.output.renderOutput(dataTable, element);\n",
              "        const docLink = document.createElement('div');\n",
              "        docLink.innerHTML = docLinkHtml;\n",
              "        element.appendChild(docLink);\n",
              "      }\n",
              "    </script>\n",
              "  </div>\n",
              "\n",
              "\n",
              "<div id=\"df-aab59fb9-ca98-4e94-a239-4ecff646c2fe\">\n",
              "  <button class=\"colab-df-quickchart\" onclick=\"quickchart('df-aab59fb9-ca98-4e94-a239-4ecff646c2fe')\"\n",
              "            title=\"Suggest charts\"\n",
              "            style=\"display:none;\">\n",
              "\n",
              "<svg xmlns=\"http://www.w3.org/2000/svg\" height=\"24px\"viewBox=\"0 0 24 24\"\n",
              "     width=\"24px\">\n",
              "    <g>\n",
              "        <path d=\"M19 3H5c-1.1 0-2 .9-2 2v14c0 1.1.9 2 2 2h14c1.1 0 2-.9 2-2V5c0-1.1-.9-2-2-2zM9 17H7v-7h2v7zm4 0h-2V7h2v10zm4 0h-2v-4h2v4z\"/>\n",
              "    </g>\n",
              "</svg>\n",
              "  </button>\n",
              "\n",
              "<style>\n",
              "  .colab-df-quickchart {\n",
              "      --bg-color: #E8F0FE;\n",
              "      --fill-color: #1967D2;\n",
              "      --hover-bg-color: #E2EBFA;\n",
              "      --hover-fill-color: #174EA6;\n",
              "      --disabled-fill-color: #AAA;\n",
              "      --disabled-bg-color: #DDD;\n",
              "  }\n",
              "\n",
              "  [theme=dark] .colab-df-quickchart {\n",
              "      --bg-color: #3B4455;\n",
              "      --fill-color: #D2E3FC;\n",
              "      --hover-bg-color: #434B5C;\n",
              "      --hover-fill-color: #FFFFFF;\n",
              "      --disabled-bg-color: #3B4455;\n",
              "      --disabled-fill-color: #666;\n",
              "  }\n",
              "\n",
              "  .colab-df-quickchart {\n",
              "    background-color: var(--bg-color);\n",
              "    border: none;\n",
              "    border-radius: 50%;\n",
              "    cursor: pointer;\n",
              "    display: none;\n",
              "    fill: var(--fill-color);\n",
              "    height: 32px;\n",
              "    padding: 0;\n",
              "    width: 32px;\n",
              "  }\n",
              "\n",
              "  .colab-df-quickchart:hover {\n",
              "    background-color: var(--hover-bg-color);\n",
              "    box-shadow: 0 1px 2px rgba(60, 64, 67, 0.3), 0 1px 3px 1px rgba(60, 64, 67, 0.15);\n",
              "    fill: var(--button-hover-fill-color);\n",
              "  }\n",
              "\n",
              "  .colab-df-quickchart-complete:disabled,\n",
              "  .colab-df-quickchart-complete:disabled:hover {\n",
              "    background-color: var(--disabled-bg-color);\n",
              "    fill: var(--disabled-fill-color);\n",
              "    box-shadow: none;\n",
              "  }\n",
              "\n",
              "  .colab-df-spinner {\n",
              "    border: 2px solid var(--fill-color);\n",
              "    border-color: transparent;\n",
              "    border-bottom-color: var(--fill-color);\n",
              "    animation:\n",
              "      spin 1s steps(1) infinite;\n",
              "  }\n",
              "\n",
              "  @keyframes spin {\n",
              "    0% {\n",
              "      border-color: transparent;\n",
              "      border-bottom-color: var(--fill-color);\n",
              "      border-left-color: var(--fill-color);\n",
              "    }\n",
              "    20% {\n",
              "      border-color: transparent;\n",
              "      border-left-color: var(--fill-color);\n",
              "      border-top-color: var(--fill-color);\n",
              "    }\n",
              "    30% {\n",
              "      border-color: transparent;\n",
              "      border-left-color: var(--fill-color);\n",
              "      border-top-color: var(--fill-color);\n",
              "      border-right-color: var(--fill-color);\n",
              "    }\n",
              "    40% {\n",
              "      border-color: transparent;\n",
              "      border-right-color: var(--fill-color);\n",
              "      border-top-color: var(--fill-color);\n",
              "    }\n",
              "    60% {\n",
              "      border-color: transparent;\n",
              "      border-right-color: var(--fill-color);\n",
              "    }\n",
              "    80% {\n",
              "      border-color: transparent;\n",
              "      border-right-color: var(--fill-color);\n",
              "      border-bottom-color: var(--fill-color);\n",
              "    }\n",
              "    90% {\n",
              "      border-color: transparent;\n",
              "      border-bottom-color: var(--fill-color);\n",
              "    }\n",
              "  }\n",
              "</style>\n",
              "\n",
              "  <script>\n",
              "    async function quickchart(key) {\n",
              "      const quickchartButtonEl =\n",
              "        document.querySelector('#' + key + ' button');\n",
              "      quickchartButtonEl.disabled = true;  // To prevent multiple clicks.\n",
              "      quickchartButtonEl.classList.add('colab-df-spinner');\n",
              "      try {\n",
              "        const charts = await google.colab.kernel.invokeFunction(\n",
              "            'suggestCharts', [key], {});\n",
              "      } catch (error) {\n",
              "        console.error('Error during call to suggestCharts:', error);\n",
              "      }\n",
              "      quickchartButtonEl.classList.remove('colab-df-spinner');\n",
              "      quickchartButtonEl.classList.add('colab-df-quickchart-complete');\n",
              "    }\n",
              "    (() => {\n",
              "      let quickchartButtonEl =\n",
              "        document.querySelector('#df-aab59fb9-ca98-4e94-a239-4ecff646c2fe button');\n",
              "      quickchartButtonEl.style.display =\n",
              "        google.colab.kernel.accessAllowed ? 'block' : 'none';\n",
              "    })();\n",
              "  </script>\n",
              "</div>\n",
              "\n",
              "    </div>\n",
              "  </div>\n"
            ],
            "application/vnd.google.colaboratory.intrinsic+json": {
              "type": "dataframe",
              "variable_name": "df",
              "summary": "{\n  \"name\": \"df\",\n  \"rows\": 38,\n  \"fields\": [\n    {\n      \"column\": \"Fecha_anual\",\n      \"properties\": {\n        \"dtype\": \"number\",\n        \"std\": 11,\n        \"min\": 1980,\n        \"max\": 2017,\n        \"num_unique_values\": 38,\n        \"samples\": [\n          2013,\n          2016,\n          1984\n        ],\n        \"semantic_type\": \"\",\n        \"description\": \"\"\n      }\n    },\n    {\n      \"column\": \"Inversion\",\n      \"properties\": {\n        \"dtype\": \"number\",\n        \"std\": 5.5565276927232174,\n        \"min\": 1.0,\n        \"max\": 19.5,\n        \"num_unique_values\": 38,\n        \"samples\": [\n          17.5,\n          19.0,\n          3.0\n        ],\n        \"semantic_type\": \"\",\n        \"description\": \"\"\n      }\n    },\n    {\n      \"column\": \"Ventas\",\n      \"properties\": {\n        \"dtype\": \"number\",\n        \"std\": 4.315321483057051,\n        \"min\": 0.62,\n        \"max\": 17.45,\n        \"num_unique_values\": 38,\n        \"samples\": [\n          15.69,\n          16.72,\n          0.62\n        ],\n        \"semantic_type\": \"\",\n        \"description\": \"\"\n      }\n    }\n  ]\n}"
            }
          },
          "metadata": {},
          "execution_count": 3
        }
      ],
      "source": [
        "df.head(10)"
      ]
    },
    {
      "cell_type": "markdown",
      "id": "74758c4e-b70b-40aa-8e7c-2f8c2dd77039",
      "metadata": {
        "id": "74758c4e-b70b-40aa-8e7c-2f8c2dd77039"
      },
      "source": [
        "### Veamos la estructura de nuestro dataset"
      ]
    },
    {
      "cell_type": "code",
      "execution_count": 5,
      "id": "9bc2cc01-dc9a-4b6d-b4f7-75ff67cf394c",
      "metadata": {
        "id": "9bc2cc01-dc9a-4b6d-b4f7-75ff67cf394c",
        "outputId": "320e7b6e-d775-4b5e-f827-2ef961f16126",
        "colab": {
          "base_uri": "https://localhost:8080/"
        }
      },
      "outputs": [
        {
          "output_type": "stream",
          "name": "stdout",
          "text": [
            "<class 'pandas.core.frame.DataFrame'>\n",
            "RangeIndex: 38 entries, 0 to 37\n",
            "Data columns (total 3 columns):\n",
            " #   Column       Non-Null Count  Dtype  \n",
            "---  ------       --------------  -----  \n",
            " 0   Fecha_anual  38 non-null     int64  \n",
            " 1   Inversion    38 non-null     float64\n",
            " 2   Ventas       38 non-null     float64\n",
            "dtypes: float64(2), int64(1)\n",
            "memory usage: 1.0 KB\n"
          ]
        }
      ],
      "source": [
        "df.info()"
      ]
    },
    {
      "cell_type": "markdown",
      "id": "437ead9e-83b8-4215-b0ac-9ca8f5c3dd5b",
      "metadata": {
        "id": "437ead9e-83b8-4215-b0ac-9ca8f5c3dd5b"
      },
      "source": [
        "### Analisis global de datos estadisticos de la muestra de variables cuantitativas"
      ]
    },
    {
      "cell_type": "code",
      "execution_count": 6,
      "id": "07bd52c1-3b0e-4503-b3b4-5998125d3e59",
      "metadata": {
        "id": "07bd52c1-3b0e-4503-b3b4-5998125d3e59",
        "outputId": "275a87e9-acb4-45d0-a56f-2af4b9d3f495",
        "colab": {
          "base_uri": "https://localhost:8080/",
          "height": 300
        }
      },
      "outputs": [
        {
          "output_type": "execute_result",
          "data": {
            "text/plain": [
              "       Inversion     Ventas\n",
              "count  38.000000  38.000000\n",
              "mean   10.250000  10.492895\n",
              "std     5.556528   4.315321\n",
              "min     1.000000   0.620000\n",
              "25%     5.625000   7.565000\n",
              "50%    10.250000  11.080000\n",
              "75%    14.875000  14.032500\n",
              "max    19.500000  17.450000"
            ],
            "text/html": [
              "\n",
              "  <div id=\"df-470d8758-0ed3-47a4-9d70-a38d06aeecd8\" class=\"colab-df-container\">\n",
              "    <div>\n",
              "<style scoped>\n",
              "    .dataframe tbody tr th:only-of-type {\n",
              "        vertical-align: middle;\n",
              "    }\n",
              "\n",
              "    .dataframe tbody tr th {\n",
              "        vertical-align: top;\n",
              "    }\n",
              "\n",
              "    .dataframe thead th {\n",
              "        text-align: right;\n",
              "    }\n",
              "</style>\n",
              "<table border=\"1\" class=\"dataframe\">\n",
              "  <thead>\n",
              "    <tr style=\"text-align: right;\">\n",
              "      <th></th>\n",
              "      <th>Inversion</th>\n",
              "      <th>Ventas</th>\n",
              "    </tr>\n",
              "  </thead>\n",
              "  <tbody>\n",
              "    <tr>\n",
              "      <th>count</th>\n",
              "      <td>38.000000</td>\n",
              "      <td>38.000000</td>\n",
              "    </tr>\n",
              "    <tr>\n",
              "      <th>mean</th>\n",
              "      <td>10.250000</td>\n",
              "      <td>10.492895</td>\n",
              "    </tr>\n",
              "    <tr>\n",
              "      <th>std</th>\n",
              "      <td>5.556528</td>\n",
              "      <td>4.315321</td>\n",
              "    </tr>\n",
              "    <tr>\n",
              "      <th>min</th>\n",
              "      <td>1.000000</td>\n",
              "      <td>0.620000</td>\n",
              "    </tr>\n",
              "    <tr>\n",
              "      <th>25%</th>\n",
              "      <td>5.625000</td>\n",
              "      <td>7.565000</td>\n",
              "    </tr>\n",
              "    <tr>\n",
              "      <th>50%</th>\n",
              "      <td>10.250000</td>\n",
              "      <td>11.080000</td>\n",
              "    </tr>\n",
              "    <tr>\n",
              "      <th>75%</th>\n",
              "      <td>14.875000</td>\n",
              "      <td>14.032500</td>\n",
              "    </tr>\n",
              "    <tr>\n",
              "      <th>max</th>\n",
              "      <td>19.500000</td>\n",
              "      <td>17.450000</td>\n",
              "    </tr>\n",
              "  </tbody>\n",
              "</table>\n",
              "</div>\n",
              "    <div class=\"colab-df-buttons\">\n",
              "\n",
              "  <div class=\"colab-df-container\">\n",
              "    <button class=\"colab-df-convert\" onclick=\"convertToInteractive('df-470d8758-0ed3-47a4-9d70-a38d06aeecd8')\"\n",
              "            title=\"Convert this dataframe to an interactive table.\"\n",
              "            style=\"display:none;\">\n",
              "\n",
              "  <svg xmlns=\"http://www.w3.org/2000/svg\" height=\"24px\" viewBox=\"0 -960 960 960\">\n",
              "    <path d=\"M120-120v-720h720v720H120Zm60-500h600v-160H180v160Zm220 220h160v-160H400v160Zm0 220h160v-160H400v160ZM180-400h160v-160H180v160Zm440 0h160v-160H620v160ZM180-180h160v-160H180v160Zm440 0h160v-160H620v160Z\"/>\n",
              "  </svg>\n",
              "    </button>\n",
              "\n",
              "  <style>\n",
              "    .colab-df-container {\n",
              "      display:flex;\n",
              "      gap: 12px;\n",
              "    }\n",
              "\n",
              "    .colab-df-convert {\n",
              "      background-color: #E8F0FE;\n",
              "      border: none;\n",
              "      border-radius: 50%;\n",
              "      cursor: pointer;\n",
              "      display: none;\n",
              "      fill: #1967D2;\n",
              "      height: 32px;\n",
              "      padding: 0 0 0 0;\n",
              "      width: 32px;\n",
              "    }\n",
              "\n",
              "    .colab-df-convert:hover {\n",
              "      background-color: #E2EBFA;\n",
              "      box-shadow: 0px 1px 2px rgba(60, 64, 67, 0.3), 0px 1px 3px 1px rgba(60, 64, 67, 0.15);\n",
              "      fill: #174EA6;\n",
              "    }\n",
              "\n",
              "    .colab-df-buttons div {\n",
              "      margin-bottom: 4px;\n",
              "    }\n",
              "\n",
              "    [theme=dark] .colab-df-convert {\n",
              "      background-color: #3B4455;\n",
              "      fill: #D2E3FC;\n",
              "    }\n",
              "\n",
              "    [theme=dark] .colab-df-convert:hover {\n",
              "      background-color: #434B5C;\n",
              "      box-shadow: 0px 1px 3px 1px rgba(0, 0, 0, 0.15);\n",
              "      filter: drop-shadow(0px 1px 2px rgba(0, 0, 0, 0.3));\n",
              "      fill: #FFFFFF;\n",
              "    }\n",
              "  </style>\n",
              "\n",
              "    <script>\n",
              "      const buttonEl =\n",
              "        document.querySelector('#df-470d8758-0ed3-47a4-9d70-a38d06aeecd8 button.colab-df-convert');\n",
              "      buttonEl.style.display =\n",
              "        google.colab.kernel.accessAllowed ? 'block' : 'none';\n",
              "\n",
              "      async function convertToInteractive(key) {\n",
              "        const element = document.querySelector('#df-470d8758-0ed3-47a4-9d70-a38d06aeecd8');\n",
              "        const dataTable =\n",
              "          await google.colab.kernel.invokeFunction('convertToInteractive',\n",
              "                                                    [key], {});\n",
              "        if (!dataTable) return;\n",
              "\n",
              "        const docLinkHtml = 'Like what you see? Visit the ' +\n",
              "          '<a target=\"_blank\" href=https://colab.research.google.com/notebooks/data_table.ipynb>data table notebook</a>'\n",
              "          + ' to learn more about interactive tables.';\n",
              "        element.innerHTML = '';\n",
              "        dataTable['output_type'] = 'display_data';\n",
              "        await google.colab.output.renderOutput(dataTable, element);\n",
              "        const docLink = document.createElement('div');\n",
              "        docLink.innerHTML = docLinkHtml;\n",
              "        element.appendChild(docLink);\n",
              "      }\n",
              "    </script>\n",
              "  </div>\n",
              "\n",
              "\n",
              "<div id=\"df-300451f1-5514-4d44-9429-186c4aa2b1a6\">\n",
              "  <button class=\"colab-df-quickchart\" onclick=\"quickchart('df-300451f1-5514-4d44-9429-186c4aa2b1a6')\"\n",
              "            title=\"Suggest charts\"\n",
              "            style=\"display:none;\">\n",
              "\n",
              "<svg xmlns=\"http://www.w3.org/2000/svg\" height=\"24px\"viewBox=\"0 0 24 24\"\n",
              "     width=\"24px\">\n",
              "    <g>\n",
              "        <path d=\"M19 3H5c-1.1 0-2 .9-2 2v14c0 1.1.9 2 2 2h14c1.1 0 2-.9 2-2V5c0-1.1-.9-2-2-2zM9 17H7v-7h2v7zm4 0h-2V7h2v10zm4 0h-2v-4h2v4z\"/>\n",
              "    </g>\n",
              "</svg>\n",
              "  </button>\n",
              "\n",
              "<style>\n",
              "  .colab-df-quickchart {\n",
              "      --bg-color: #E8F0FE;\n",
              "      --fill-color: #1967D2;\n",
              "      --hover-bg-color: #E2EBFA;\n",
              "      --hover-fill-color: #174EA6;\n",
              "      --disabled-fill-color: #AAA;\n",
              "      --disabled-bg-color: #DDD;\n",
              "  }\n",
              "\n",
              "  [theme=dark] .colab-df-quickchart {\n",
              "      --bg-color: #3B4455;\n",
              "      --fill-color: #D2E3FC;\n",
              "      --hover-bg-color: #434B5C;\n",
              "      --hover-fill-color: #FFFFFF;\n",
              "      --disabled-bg-color: #3B4455;\n",
              "      --disabled-fill-color: #666;\n",
              "  }\n",
              "\n",
              "  .colab-df-quickchart {\n",
              "    background-color: var(--bg-color);\n",
              "    border: none;\n",
              "    border-radius: 50%;\n",
              "    cursor: pointer;\n",
              "    display: none;\n",
              "    fill: var(--fill-color);\n",
              "    height: 32px;\n",
              "    padding: 0;\n",
              "    width: 32px;\n",
              "  }\n",
              "\n",
              "  .colab-df-quickchart:hover {\n",
              "    background-color: var(--hover-bg-color);\n",
              "    box-shadow: 0 1px 2px rgba(60, 64, 67, 0.3), 0 1px 3px 1px rgba(60, 64, 67, 0.15);\n",
              "    fill: var(--button-hover-fill-color);\n",
              "  }\n",
              "\n",
              "  .colab-df-quickchart-complete:disabled,\n",
              "  .colab-df-quickchart-complete:disabled:hover {\n",
              "    background-color: var(--disabled-bg-color);\n",
              "    fill: var(--disabled-fill-color);\n",
              "    box-shadow: none;\n",
              "  }\n",
              "\n",
              "  .colab-df-spinner {\n",
              "    border: 2px solid var(--fill-color);\n",
              "    border-color: transparent;\n",
              "    border-bottom-color: var(--fill-color);\n",
              "    animation:\n",
              "      spin 1s steps(1) infinite;\n",
              "  }\n",
              "\n",
              "  @keyframes spin {\n",
              "    0% {\n",
              "      border-color: transparent;\n",
              "      border-bottom-color: var(--fill-color);\n",
              "      border-left-color: var(--fill-color);\n",
              "    }\n",
              "    20% {\n",
              "      border-color: transparent;\n",
              "      border-left-color: var(--fill-color);\n",
              "      border-top-color: var(--fill-color);\n",
              "    }\n",
              "    30% {\n",
              "      border-color: transparent;\n",
              "      border-left-color: var(--fill-color);\n",
              "      border-top-color: var(--fill-color);\n",
              "      border-right-color: var(--fill-color);\n",
              "    }\n",
              "    40% {\n",
              "      border-color: transparent;\n",
              "      border-right-color: var(--fill-color);\n",
              "      border-top-color: var(--fill-color);\n",
              "    }\n",
              "    60% {\n",
              "      border-color: transparent;\n",
              "      border-right-color: var(--fill-color);\n",
              "    }\n",
              "    80% {\n",
              "      border-color: transparent;\n",
              "      border-right-color: var(--fill-color);\n",
              "      border-bottom-color: var(--fill-color);\n",
              "    }\n",
              "    90% {\n",
              "      border-color: transparent;\n",
              "      border-bottom-color: var(--fill-color);\n",
              "    }\n",
              "  }\n",
              "</style>\n",
              "\n",
              "  <script>\n",
              "    async function quickchart(key) {\n",
              "      const quickchartButtonEl =\n",
              "        document.querySelector('#' + key + ' button');\n",
              "      quickchartButtonEl.disabled = true;  // To prevent multiple clicks.\n",
              "      quickchartButtonEl.classList.add('colab-df-spinner');\n",
              "      try {\n",
              "        const charts = await google.colab.kernel.invokeFunction(\n",
              "            'suggestCharts', [key], {});\n",
              "      } catch (error) {\n",
              "        console.error('Error during call to suggestCharts:', error);\n",
              "      }\n",
              "      quickchartButtonEl.classList.remove('colab-df-spinner');\n",
              "      quickchartButtonEl.classList.add('colab-df-quickchart-complete');\n",
              "    }\n",
              "    (() => {\n",
              "      let quickchartButtonEl =\n",
              "        document.querySelector('#df-300451f1-5514-4d44-9429-186c4aa2b1a6 button');\n",
              "      quickchartButtonEl.style.display =\n",
              "        google.colab.kernel.accessAllowed ? 'block' : 'none';\n",
              "    })();\n",
              "  </script>\n",
              "</div>\n",
              "\n",
              "    </div>\n",
              "  </div>\n"
            ],
            "application/vnd.google.colaboratory.intrinsic+json": {
              "type": "dataframe",
              "summary": "{\n  \"name\": \"df\",\n  \"rows\": 8,\n  \"fields\": [\n    {\n      \"column\": \"Inversion\",\n      \"properties\": {\n        \"dtype\": \"number\",\n        \"std\": 11.585378707932499,\n        \"min\": 1.0,\n        \"max\": 38.0,\n        \"num_unique_values\": 7,\n        \"samples\": [\n          38.0,\n          10.25,\n          14.875\n        ],\n        \"semantic_type\": \"\",\n        \"description\": \"\"\n      }\n    },\n    {\n      \"column\": \"Ventas\",\n      \"properties\": {\n        \"dtype\": \"number\",\n        \"std\": 11.42705514797196,\n        \"min\": 0.62,\n        \"max\": 38.0,\n        \"num_unique_values\": 8,\n        \"samples\": [\n          10.492894736842103,\n          11.079999999999998,\n          38.0\n        ],\n        \"semantic_type\": \"\",\n        \"description\": \"\"\n      }\n    }\n  ]\n}"
            }
          },
          "metadata": {},
          "execution_count": 6
        }
      ],
      "source": [
        "df.describe(include ='float64')"
      ]
    },
    {
      "cell_type": "markdown",
      "id": "638a3fcb-5a49-449f-b667-1e2ba9ec9ffa",
      "metadata": {
        "id": "638a3fcb-5a49-449f-b667-1e2ba9ec9ffa"
      },
      "source": [
        "### Cálculo de la mediana"
      ]
    },
    {
      "cell_type": "code",
      "execution_count": 7,
      "id": "9a34f4af-7a7a-4f57-8a00-bb8400f1cdec",
      "metadata": {
        "id": "9a34f4af-7a7a-4f57-8a00-bb8400f1cdec",
        "outputId": "418e4960-4403-4253-f6c2-3ba46813c644",
        "colab": {
          "base_uri": "https://localhost:8080/"
        }
      },
      "outputs": [
        {
          "output_type": "stream",
          "name": "stdout",
          "text": [
            "La mediana de la variable Inversion es: 10.25\n",
            "La mediana de la variable Venta es: 11.079999999999998\n",
            "Las modas de la variable Inversion son: [ 1.   1.5  2.   2.5  3.   3.5  4.   4.5  5.   5.5  6.   6.5  7.   7.5\n",
            "  8.   8.5  9.   9.5 10.  10.5 11.  11.5 12.  12.5 13.  13.5 14.  14.5\n",
            " 15.  15.5 16.  16.5 17.  17.5 18.  18.5 19.  19.5]\n",
            "Las modas de la variable Ventas son: [ 0.62  0.64  4.61  5.09  5.18  5.44  6.39  7.04  7.13  7.48  7.82  8.01\n",
            "  8.22  8.86  9.1   9.78  9.82 10.05 11.04 11.12 11.44 11.47 12.01 12.33\n",
            " 12.53 12.56 13.4  13.83 14.1  14.64 14.95 15.04 15.06 15.69 15.86 16.21\n",
            " 16.72 17.45]\n"
          ]
        }
      ],
      "source": [
        "print(\"La mediana de la variable Inversion es:\", df[\"Inversion\"].median())\n",
        "print(\"La mediana de la variable Venta es:\", df[\"Ventas\"].median())\n",
        "# Cálculo de la moda\n",
        "print(\"Las modas de la variable Inversion son:\", df[\"Inversion\"].mode().to_numpy())\n",
        "print(\"Las modas de la variable Ventas son:\", df[\"Ventas\"].mode().to_numpy())"
      ]
    },
    {
      "cell_type": "markdown",
      "id": "816d9fb6-e110-440a-9397-630445b9ba49",
      "metadata": {
        "id": "816d9fb6-e110-440a-9397-630445b9ba49"
      },
      "source": [
        "## Gráficas de dispersión"
      ]
    },
    {
      "cell_type": "code",
      "execution_count": 8,
      "id": "347a3e6b-89cf-4f6c-9b65-144d3910ac37",
      "metadata": {
        "id": "347a3e6b-89cf-4f6c-9b65-144d3910ac37",
        "outputId": "5c3e70df-f50f-43ad-c41f-1ba3f54ff36b",
        "colab": {
          "base_uri": "https://localhost:8080/",
          "height": 735
        }
      },
      "outputs": [
        {
          "output_type": "execute_result",
          "data": {
            "text/plain": [
              "Text(0.5, 1.0, 'Distribución de Inversión verus Ventas')"
            ]
          },
          "metadata": {},
          "execution_count": 8
        },
        {
          "output_type": "display_data",
          "data": {
            "text/plain": [
              "<Figure size 1400x800 with 1 Axes>"
            ],
            "image/png": "[encoded data removed]"
          },
          "metadata": {}
        }
      ],
      "source": [
        "fig, ax = plt.subplots(figsize=(14,8))\n",
        "\n",
        "df.plot(\n",
        "    x = 'Inversion',\n",
        "    y = 'Ventas',\n",
        "    c= 'firebrick',\n",
        "    kind = 'scatter',\n",
        "    ax = ax\n",
        ")\n",
        "ax.set_title('Distribución de Inversión verus Ventas')"
      ]
    },
    {
      "cell_type": "markdown",
      "id": "69a3f86d-44a5-4963-85bf-89cb67044efe",
      "metadata": {
        "id": "69a3f86d-44a5-4963-85bf-89cb67044efe"
      },
      "source": [
        "## Valores atípicos"
      ]
    },
    {
      "cell_type": "markdown",
      "id": "efc532fd-d6c1-4668-970a-cd6550af8ff0",
      "metadata": {
        "id": "efc532fd-d6c1-4668-970a-cd6550af8ff0"
      },
      "source": [
        "Analicemos ambas variables para determinar sus varlores atipicos:"
      ]
    },
    {
      "cell_type": "code",
      "execution_count": 9,
      "id": "499e0be0-e2a3-4bc1-bc5e-25195abce6e4",
      "metadata": {
        "id": "499e0be0-e2a3-4bc1-bc5e-25195abce6e4",
        "outputId": "b5dbbbab-4469-4d1a-b2d9-bdff8186e6e7",
        "colab": {
          "base_uri": "https://localhost:8080/"
        }
      },
      "outputs": [
        {
          "output_type": "stream",
          "name": "stdout",
          "text": [
            "Calculo de primer cuartil, tercer cuartil y rango intercuartílico (IQR Variable Ventas\n",
            "Primer cuartil: 7.565\n",
            "Tercer cuartil: 14.032499999999999\n",
            "Rango intercuartílico 6.4674999999999985\n",
            "\n",
            "\n",
            "Calculo de primer cuartil, tercer cuartil y ranco intercuartílico (IQR) variable Inversión\n",
            "Primer cuartil: 5.625\n",
            "Tercer cuartil: 14.875\n",
            "Rango intercuartílico: 9.25\n"
          ]
        }
      ],
      "source": [
        "print(\"Calculo de primer cuartil, tercer cuartil y rango intercuartílico (IQR Variable Ventas\")\n",
        "Q1_ventas = df[\"Ventas\"].quantile(0.25)\n",
        "Q3_ventas = df[\"Ventas\"].quantile(0.75)\n",
        "IQR_ventas = Q3_ventas - Q1_ventas\n",
        "\n",
        "print(\"Primer cuartil:\", Q1_ventas)\n",
        "print(\"Tercer cuartil:\", Q3_ventas)\n",
        "print(\"Rango intercuartílico\", IQR_ventas)\n",
        "\n",
        "print(\"\\n\\nCalculo de primer cuartil, tercer cuartil y ranco intercuartílico (IQR) variable Inversión\")\n",
        "Q1_inversion = df[\"Inversion\"].quantile(0.25)\n",
        "Q3_inversion = df[\"Inversion\"].quantile(0.75)\n",
        "IQR_inversion = Q3_inversion - Q1_inversion\n",
        "\n",
        "print(\"Primer cuartil:\", Q1_inversion)\n",
        "print(\"Tercer cuartil:\",  Q3_inversion)\n",
        "print(\"Rango intercuartílico:\", IQR_inversion)"
      ]
    },
    {
      "cell_type": "code",
      "execution_count": 10,
      "id": "bc2dd04d-a1db-468b-98e8-c912ac7b6cea",
      "metadata": {
        "id": "bc2dd04d-a1db-468b-98e8-c912ac7b6cea",
        "outputId": "cb9244bc-21bf-43f2-bd77-92039d8110a3",
        "colab": {
          "base_uri": "https://localhost:8080/",
          "height": 562
        }
      },
      "outputs": [
        {
          "output_type": "stream",
          "name": "stderr",
          "text": [
            "<ipython-input-10-c54c83932bf6>:2: FutureWarning: \n",
            "\n",
            "Passing `palette` without assigning `hue` is deprecated and will be removed in v0.14.0. Assign the `x` variable to `hue` and set `legend=False` for the same effect.\n",
            "\n",
            "  boxplot = sns.boxplot(x=\"variable\", y=\"value\", data=pd.melt(df2), order=[\"Inversion\", \"Ventas\"], palette=\"Set2\")\n"
          ]
        },
        {
          "output_type": "display_data",
          "data": {
            "text/plain": [
              "<Figure size 640x480 with 1 Axes>"
            ],
            "image/png": "[encoded data removed]"
          },
          "metadata": {}
        }
      ],
      "source": [
        "df2 = pd.DataFrame(data=df, columns=[\"Inversion\", \"Ventas\"])\n",
        "boxplot = sns.boxplot(x=\"variable\", y=\"value\", data=pd.melt(df2), order=[\"Inversion\", \"Ventas\"], palette=\"Set2\")\n",
        "boxplot = sns.stripplot(x=\"variable\", y=\"value\", data=pd.melt(df2), marker=\"o\", alpha=0.3, color=\"black\", order=[\"Inversion\", \"Ventas\"])\n",
        "boxplot.axes.set_title(\"Distribución de variables Inversión y Ventas\", fontsize=16)\n",
        "boxplot.set_ylabel(\"Valores (Millones de Euros)\", fontsize=10)\n",
        "plt.show()"
      ]
    },
    {
      "cell_type": "markdown",
      "source": [
        "la inversión presenta una variabilidad significativamente mayor en comparación con las ventas, lo cual se evidencia en un rango intercuartílico más amplio.\n",
        "\n",
        "Tanto en la inversión como en las ventas, se identifican valores atípicos que se desvían de la distribución general. Estos valores extremos podrían representar casos excepcionales de inversiones o ventas, ya sea por su magnitud elevada o reducida.\n",
        "\n",
        "La inversión muestra una mayor amplitud en sus valores, mientras que las ventas exhiben una menor variabilidad. Esto sugiere que, a pesar de las fluctuaciones en los montos invertidos, los resultados de ventas tienden a mantenerse dentro de un rango más estable y predecible."
      ],
      "metadata": {
        "id": "pix5y-4dqrdE"
      },
      "id": "pix5y-4dqrdE"
    },
    {
      "cell_type": "code",
      "source": [
        "#Por outlier entendemos valores superiores a la suma del tercer cuartil más 1.5 veces el IQR, o inferiores al primer cuartil menos 1.5 veces el IQR"
      ],
      "metadata": {
        "id": "valZIDRSq8FM"
      },
      "id": "valZIDRSq8FM",
      "execution_count": 13,
      "outputs": []
    },
    {
      "cell_type": "code",
      "execution_count": 17,
      "id": "b65ccb18-d19d-494a-b328-6d7792bb23b9",
      "metadata": {
        "id": "b65ccb18-d19d-494a-b328-6d7792bb23b9"
      },
      "outputs": [],
      "source": [
        "limite_superior_ventas = Q3_ventas + 1.5 * IQR_ventas\n",
        "limite_inferior_ventas = Q1_ventas - 1.5 * IQR_ventas\n",
        "\n",
        "limite_superior_inversion = Q3_inversion + 1.5 * IQR_inversion\n",
        "limite_inferior_inversion = Q1_inversion - 1.5 * IQR_inversion"
      ]
    },
    {
      "cell_type": "code",
      "source": [
        "outliers_ventas = df[(df[\"Ventas\"] > limite_superior_ventas) | (df[\"Ventas\"] < limite_inferior_ventas)]\n",
        "outliers_inversion = df[(df[\"Inversion\"] > limite_superior_inversion) | (df[\"Inversion\"] < limite_inferior_inversion)]"
      ],
      "metadata": {
        "id": "7byytjnurHL8"
      },
      "id": "7byytjnurHL8",
      "execution_count": 18,
      "outputs": []
    },
    {
      "cell_type": "code",
      "source": [
        "print(\"Outliers en Ventas:\\n\", outliers_ventas)\n",
        "print(\"\\nOutliers en Inversión:\\n\", outliers_inversion)"
      ],
      "metadata": {
        "colab": {
          "base_uri": "https://localhost:8080/"
        },
        "id": "v0P4GdpMrI-E",
        "outputId": "bf048475-5a83-40ee-979b-a80246e577ec"
      },
      "id": "v0P4GdpMrI-E",
      "execution_count": 19,
      "outputs": [
        {
          "output_type": "stream",
          "name": "stdout",
          "text": [
            "Outliers en Ventas:\n",
            " Empty DataFrame\n",
            "Columns: [Fecha_anual, Inversion, Ventas]\n",
            "Index: []\n",
            "\n",
            "Outliers en Inversión:\n",
            " Empty DataFrame\n",
            "Columns: [Fecha_anual, Inversion, Ventas]\n",
            "Index: []\n"
          ]
        }
      ]
    },
    {
      "cell_type": "markdown",
      "id": "5054e034-d4f7-4166-9d9e-23b9b40c4f86",
      "metadata": {
        "id": "5054e034-d4f7-4166-9d9e-23b9b40c4f86"
      },
      "source": [
        "### Análisis entre variables Inversión y Ventas"
      ]
    },
    {
      "cell_type": "code",
      "execution_count": 20,
      "id": "10855032-6aed-415f-8539-808311c94136",
      "metadata": {
        "id": "10855032-6aed-415f-8539-808311c94136"
      },
      "outputs": [],
      "source": [
        "# piens en la covarianza"
      ]
    },
    {
      "cell_type": "code",
      "source": [
        "covarianza = np.cov(df['Inversion'], df['Ventas'])[0, 1]\n",
        "print(f\"La covarianza entre Inversión y Ventas es:{covarianza}\")"
      ],
      "metadata": {
        "colab": {
          "base_uri": "https://localhost:8080/"
        },
        "id": "WrGcFyLRrMhL",
        "outputId": "aa975913-1a92-4597-d2e7-326e5e4be2b4"
      },
      "id": "WrGcFyLRrMhL",
      "execution_count": 21,
      "outputs": [
        {
          "output_type": "stream",
          "name": "stdout",
          "text": [
            "La covarianza entre Inversión y Ventas es:22.92993243243243\n"
          ]
        }
      ]
    },
    {
      "cell_type": "markdown",
      "source": [
        "Existe una correlación positiva entre la inversión y las ventas. Esto implica que un aumento en la inversión generalmente se traduce en un incremento en las ventas, y viceversa."
      ],
      "metadata": {
        "id": "AXCM2zZ5rUjy"
      },
      "id": "AXCM2zZ5rUjy"
    },
    {
      "cell_type": "code",
      "source": [
        "correlacion = pearsonr(df['Inversion'], df['Ventas'])[0]\n",
        "print(f\"La correlación entre Inversión y Ventas es: {correlacion}\")"
      ],
      "metadata": {
        "colab": {
          "base_uri": "https://localhost:8080/"
        },
        "id": "8U7dvnrQrOfM",
        "outputId": "fc956b1a-3642-405e-82a8-d21fcff5cafd"
      },
      "id": "8U7dvnrQrOfM",
      "execution_count": 22,
      "outputs": [
        {
          "output_type": "stream",
          "name": "stdout",
          "text": [
            "La correlación entre Inversión y Ventas es: 0.9562823420491504\n"
          ]
        }
      ]
    },
    {
      "cell_type": "markdown",
      "source": [
        "Un valor de 0.956 revela que la inversión y las ventas están altamente correlacionadas de manera positiva. Esto respalda la conclusión obtenida del análisis de covarianza, donde se constató que el aumento de la inversión se asocia con un incremento en las ventas. La proximidad de la correlación a 1 demuestra una relación lineal muy marcada"
      ],
      "metadata": {
        "id": "fTrzrlB_rWHL"
      },
      "id": "fTrzrlB_rWHL"
    },
    {
      "cell_type": "markdown",
      "id": "204a2b47-e5db-4db8-b44f-e751c384a1c5",
      "metadata": {
        "id": "204a2b47-e5db-4db8-b44f-e751c384a1c5"
      },
      "source": [
        "## Ajuste del modelo utilizando scipy"
      ]
    },
    {
      "cell_type": "code",
      "execution_count": null,
      "id": "01170be9-179e-4452-8cca-589781ac5a87",
      "metadata": {
        "id": "01170be9-179e-4452-8cca-589781ac5a87"
      },
      "outputs": [],
      "source": [
        "## Ajuste del modelo utilizando statsmodels"
      ]
    },
    {
      "cell_type": "code",
      "source": [
        "X = sm.add_constant(df['Inversion'])"
      ],
      "metadata": {
        "id": "e_Z5YX26rgAL"
      },
      "id": "e_Z5YX26rgAL",
      "execution_count": 23,
      "outputs": []
    },
    {
      "cell_type": "code",
      "source": [
        "modelo = sm.OLS(df['Ventas'], X)  # OLS: Ordinary Least Squares\n",
        "resultados = modelo.fit()"
      ],
      "metadata": {
        "id": "3vFYUuwyrhq8"
      },
      "id": "3vFYUuwyrhq8",
      "execution_count": 25,
      "outputs": []
    },
    {
      "cell_type": "code",
      "source": [
        "print(resultados.summary())"
      ],
      "metadata": {
        "colab": {
          "base_uri": "https://localhost:8080/"
        },
        "id": "1w4T0ER8rjRk",
        "outputId": "075880dd-f3a3-4ca6-cf4a-9268fa21e643"
      },
      "id": "1w4T0ER8rjRk",
      "execution_count": 26,
      "outputs": [
        {
          "output_type": "stream",
          "name": "stdout",
          "text": [
            "                            OLS Regression Results                            \n",
            "==============================================================================\n",
            "Dep. Variable:                 Ventas   R-squared:                       0.914\n",
            "Model:                            OLS   Adj. R-squared:                  0.912\n",
            "Method:                 Least Squares   F-statistic:                     384.9\n",
            "Date:                Tue, 18 Mar 2025   Prob (F-statistic):           8.25e-21\n",
            "Time:                        23:54:36   Log-Likelihood:                -62.255\n",
            "No. Observations:                  38   AIC:                             128.5\n",
            "Df Residuals:                      36   BIC:                             131.8\n",
            "Df Model:                           1                                         \n",
            "Covariance Type:            nonrobust                                         \n",
            "==============================================================================\n",
            "                 coef    std err          t      P>|t|      [0.025      0.975]\n",
            "------------------------------------------------------------------------------\n",
            "const          2.8805      0.440      6.546      0.000       1.988       3.773\n",
            "Inversion      0.7427      0.038     19.620      0.000       0.666       0.819\n",
            "==============================================================================\n",
            "Omnibus:                       49.123   Durbin-Watson:                   2.334\n",
            "Prob(Omnibus):                  0.000   Jarque-Bera (JB):              209.563\n",
            "Skew:                          -3.131   Prob(JB):                     3.12e-46\n",
            "Kurtosis:                      12.651   Cond. No.                         24.8\n",
            "==============================================================================\n",
            "\n",
            "Notes:\n",
            "[1] Standard Errors assume that the covariance matrix of the errors is correctly specified.\n"
          ]
        }
      ]
    },
    {
      "cell_type": "markdown",
      "source": [
        "El R² de 0.914 indica que la inversión explica un significativo 91.4% de las variaciones en las ventas. Esto sugiere una fuerte conexión entre ambas variables.\n",
        "\n",
        "El R² ajustado de 0.912, muy cercano al R², refuerza la idea de que el modelo se ajusta bien a los datos observados.\n",
        "\n",
        "El estadístico F de 384.9, junto con un p-valor de 8.25e-21 (muy inferior a 0.05), demuestra que el modelo es estadísticamente significativo. Esto significa que la relación observada entre inversión y ventas no es producto del azar.\n",
        "\n",
        "El valor de la constante (const) indica que, incluso sin inversión, se espera un nivel de ventas aproximado de 2.88 millones de euros.\n",
        "\n",
        "El coeficiente de inversión (0.7427) señala que, por cada millón de euros adicional invertido, se espera un aumento de aproximadamente 0.7427 millones de euros en las ventas."
      ],
      "metadata": {
        "id": "W4HddbSGruNb"
      },
      "id": "W4HddbSGruNb"
    },
    {
      "cell_type": "markdown",
      "id": "fd282c8d-7368-4206-a24b-634e8cc7cdf2",
      "metadata": {
        "id": "fd282c8d-7368-4206-a24b-634e8cc7cdf2"
      },
      "source": [
        "## Escribe tus conclusiones finales"
      ]
    },
    {
      "cell_type": "markdown",
      "source": [
        "El modelo estadístico confirma una relación sólida y positiva entre la inversión y las ventas, con un alto poder explicativo (R² de 91.4%). Los coeficientes son estadísticamente significativos, lo que indica que la relación no es casual.\n",
        "\n",
        "Por cada millón de euros invertido, se espera un aumento de aproximadamente 742,700 euros en las ventas. Esta relación directa y positiva sugiere que la inversión es un motor clave para el crecimiento de las ventas.\n",
        "\n",
        "Se recomienda mantener o aumentar la inversión en áreas estratégicas como marketing, digitalización y mejora del producto o servicio. Además, es crucial monitorear constantemente los resultados y ajustar la estrategia de inversión para optimizar el retorno y evitar gastos innecesarios."
      ],
      "metadata": {
        "id": "A9TKTIYqrtUT"
      },
      "id": "A9TKTIYqrtUT"
    }
  ],
  "metadata": {
    "kernelspec": {
      "display_name": "Python 3 (ipykernel)",
      "language": "python",
      "name": "python3"
    },
    "language_info": {
      "codemirror_mode": {
        "name": "ipython",
        "version": 3
      },
      "file_extension": ".py",
      "mimetype": "text/x-python",
      "name": "python",
      "nbconvert_exporter": "python",
      "pygments_lexer": "ipython3",
      "version": "3.12.3"
    },
    "colab": {
      "provenance": []
    }
  },
  "nbformat": 4,
  "nbformat_minor": 5
}